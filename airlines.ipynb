{
 "cells": [
  {
   "cell_type": "markdown",
   "metadata": {},
   "source": [
    "# Airlines Exploratory Data Analysis"
   ]
  },
  {
   "cell_type": "code",
   "execution_count": 145,
   "metadata": {},
   "outputs": [],
   "source": [
    "# import libraries\n",
    "import pandas as pd\n",
    "import numpy as np\n",
    "import matplotlib.pyplot as plt\n",
    "import seaborn as sns\n",
    "from sklearn.preprocessing import LabelEncoder\n"
   ]
  },
  {
   "cell_type": "code",
   "execution_count": 146,
   "metadata": {},
   "outputs": [],
   "source": [
    "# ignore warnings\n",
    "import warnings\n",
    "warnings.filterwarnings('ignore')"
   ]
  },
  {
   "cell_type": "markdown",
   "metadata": {},
   "source": [
    "## Data Preprocessing"
   ]
  },
  {
   "cell_type": "markdown",
   "metadata": {},
   "source": [
    "-----------------------------"
   ]
  },
  {
   "cell_type": "markdown",
   "metadata": {},
   "source": [
    "### Loading the Data"
   ]
  },
  {
   "cell_type": "code",
   "execution_count": 147,
   "metadata": {},
   "outputs": [
    {
     "data": {
      "text/html": [
       "<div>\n",
       "<style scoped>\n",
       "    .dataframe tbody tr th:only-of-type {\n",
       "        vertical-align: middle;\n",
       "    }\n",
       "\n",
       "    .dataframe tbody tr th {\n",
       "        vertical-align: top;\n",
       "    }\n",
       "\n",
       "    .dataframe thead th {\n",
       "        text-align: right;\n",
       "    }\n",
       "</style>\n",
       "<table border=\"1\" class=\"dataframe\">\n",
       "  <thead>\n",
       "    <tr style=\"text-align: right;\">\n",
       "      <th></th>\n",
       "      <th>Airport.Code</th>\n",
       "      <th>Airport.Name</th>\n",
       "      <th>Time.Label</th>\n",
       "      <th>Time.Month</th>\n",
       "      <th>Time.Month Name</th>\n",
       "      <th>Time.Year</th>\n",
       "      <th>Statistics.# of Delays.Carrier</th>\n",
       "      <th>Statistics.# of Delays.Late Aircraft</th>\n",
       "      <th>Statistics.# of Delays.National Aviation System</th>\n",
       "      <th>Statistics.# of Delays.Security</th>\n",
       "      <th>...</th>\n",
       "      <th>Statistics.Flights.Delayed</th>\n",
       "      <th>Statistics.Flights.Diverted</th>\n",
       "      <th>Statistics.Flights.On Time</th>\n",
       "      <th>Statistics.Flights.Total</th>\n",
       "      <th>Statistics.Minutes Delayed.Carrier</th>\n",
       "      <th>Statistics.Minutes Delayed.Late Aircraft</th>\n",
       "      <th>Statistics.Minutes Delayed.National Aviation System</th>\n",
       "      <th>Statistics.Minutes Delayed.Security</th>\n",
       "      <th>Statistics.Minutes Delayed.Total</th>\n",
       "      <th>Statistics.Minutes Delayed.Weather</th>\n",
       "    </tr>\n",
       "  </thead>\n",
       "  <tbody>\n",
       "    <tr>\n",
       "      <th>0</th>\n",
       "      <td>ATL</td>\n",
       "      <td>Atlanta, GA: Hartsfield-Jackson Atlanta Intern...</td>\n",
       "      <td>2003/06</td>\n",
       "      <td>6</td>\n",
       "      <td>June</td>\n",
       "      <td>2003</td>\n",
       "      <td>1009</td>\n",
       "      <td>1275</td>\n",
       "      <td>3217</td>\n",
       "      <td>17</td>\n",
       "      <td>...</td>\n",
       "      <td>5843</td>\n",
       "      <td>27</td>\n",
       "      <td>23974</td>\n",
       "      <td>30060</td>\n",
       "      <td>61606</td>\n",
       "      <td>68335</td>\n",
       "      <td>118831</td>\n",
       "      <td>518</td>\n",
       "      <td>268764</td>\n",
       "      <td>19474</td>\n",
       "    </tr>\n",
       "    <tr>\n",
       "      <th>1</th>\n",
       "      <td>BOS</td>\n",
       "      <td>Boston, MA: Logan International</td>\n",
       "      <td>2003/06</td>\n",
       "      <td>6</td>\n",
       "      <td>June</td>\n",
       "      <td>2003</td>\n",
       "      <td>374</td>\n",
       "      <td>495</td>\n",
       "      <td>685</td>\n",
       "      <td>3</td>\n",
       "      <td>...</td>\n",
       "      <td>1623</td>\n",
       "      <td>3</td>\n",
       "      <td>7875</td>\n",
       "      <td>9639</td>\n",
       "      <td>20319</td>\n",
       "      <td>28189</td>\n",
       "      <td>24400</td>\n",
       "      <td>99</td>\n",
       "      <td>77167</td>\n",
       "      <td>4160</td>\n",
       "    </tr>\n",
       "    <tr>\n",
       "      <th>2</th>\n",
       "      <td>BWI</td>\n",
       "      <td>Baltimore, MD: Baltimore/Washington Internatio...</td>\n",
       "      <td>2003/06</td>\n",
       "      <td>6</td>\n",
       "      <td>June</td>\n",
       "      <td>2003</td>\n",
       "      <td>296</td>\n",
       "      <td>477</td>\n",
       "      <td>389</td>\n",
       "      <td>8</td>\n",
       "      <td>...</td>\n",
       "      <td>1245</td>\n",
       "      <td>15</td>\n",
       "      <td>6998</td>\n",
       "      <td>8287</td>\n",
       "      <td>13635</td>\n",
       "      <td>26810</td>\n",
       "      <td>17556</td>\n",
       "      <td>278</td>\n",
       "      <td>64480</td>\n",
       "      <td>6201</td>\n",
       "    </tr>\n",
       "    <tr>\n",
       "      <th>3</th>\n",
       "      <td>CLT</td>\n",
       "      <td>Charlotte, NC: Charlotte Douglas International</td>\n",
       "      <td>2003/06</td>\n",
       "      <td>6</td>\n",
       "      <td>June</td>\n",
       "      <td>2003</td>\n",
       "      <td>300</td>\n",
       "      <td>472</td>\n",
       "      <td>735</td>\n",
       "      <td>2</td>\n",
       "      <td>...</td>\n",
       "      <td>1562</td>\n",
       "      <td>14</td>\n",
       "      <td>7021</td>\n",
       "      <td>8670</td>\n",
       "      <td>14763</td>\n",
       "      <td>23379</td>\n",
       "      <td>23804</td>\n",
       "      <td>127</td>\n",
       "      <td>65865</td>\n",
       "      <td>3792</td>\n",
       "    </tr>\n",
       "    <tr>\n",
       "      <th>4</th>\n",
       "      <td>DCA</td>\n",
       "      <td>Washington, DC: Ronald Reagan Washington National</td>\n",
       "      <td>2003/06</td>\n",
       "      <td>6</td>\n",
       "      <td>June</td>\n",
       "      <td>2003</td>\n",
       "      <td>283</td>\n",
       "      <td>268</td>\n",
       "      <td>487</td>\n",
       "      <td>4</td>\n",
       "      <td>...</td>\n",
       "      <td>1100</td>\n",
       "      <td>18</td>\n",
       "      <td>5321</td>\n",
       "      <td>6513</td>\n",
       "      <td>13775</td>\n",
       "      <td>13712</td>\n",
       "      <td>20999</td>\n",
       "      <td>120</td>\n",
       "      <td>52747</td>\n",
       "      <td>4141</td>\n",
       "    </tr>\n",
       "  </tbody>\n",
       "</table>\n",
       "<p>5 rows × 24 columns</p>\n",
       "</div>"
      ],
      "text/plain": [
       "  Airport.Code                                       Airport.Name Time.Label  \\\n",
       "0          ATL  Atlanta, GA: Hartsfield-Jackson Atlanta Intern...    2003/06   \n",
       "1          BOS                    Boston, MA: Logan International    2003/06   \n",
       "2          BWI  Baltimore, MD: Baltimore/Washington Internatio...    2003/06   \n",
       "3          CLT     Charlotte, NC: Charlotte Douglas International    2003/06   \n",
       "4          DCA  Washington, DC: Ronald Reagan Washington National    2003/06   \n",
       "\n",
       "   Time.Month Time.Month Name  Time.Year  Statistics.# of Delays.Carrier  \\\n",
       "0           6            June       2003                            1009   \n",
       "1           6            June       2003                             374   \n",
       "2           6            June       2003                             296   \n",
       "3           6            June       2003                             300   \n",
       "4           6            June       2003                             283   \n",
       "\n",
       "   Statistics.# of Delays.Late Aircraft  \\\n",
       "0                                  1275   \n",
       "1                                   495   \n",
       "2                                   477   \n",
       "3                                   472   \n",
       "4                                   268   \n",
       "\n",
       "   Statistics.# of Delays.National Aviation System  \\\n",
       "0                                             3217   \n",
       "1                                              685   \n",
       "2                                              389   \n",
       "3                                              735   \n",
       "4                                              487   \n",
       "\n",
       "   Statistics.# of Delays.Security  ...  Statistics.Flights.Delayed  \\\n",
       "0                               17  ...                        5843   \n",
       "1                                3  ...                        1623   \n",
       "2                                8  ...                        1245   \n",
       "3                                2  ...                        1562   \n",
       "4                                4  ...                        1100   \n",
       "\n",
       "  Statistics.Flights.Diverted  Statistics.Flights.On Time  \\\n",
       "0                          27                       23974   \n",
       "1                           3                        7875   \n",
       "2                          15                        6998   \n",
       "3                          14                        7021   \n",
       "4                          18                        5321   \n",
       "\n",
       "   Statistics.Flights.Total  Statistics.Minutes Delayed.Carrier  \\\n",
       "0                     30060                               61606   \n",
       "1                      9639                               20319   \n",
       "2                      8287                               13635   \n",
       "3                      8670                               14763   \n",
       "4                      6513                               13775   \n",
       "\n",
       "   Statistics.Minutes Delayed.Late Aircraft  \\\n",
       "0                                     68335   \n",
       "1                                     28189   \n",
       "2                                     26810   \n",
       "3                                     23379   \n",
       "4                                     13712   \n",
       "\n",
       "   Statistics.Minutes Delayed.National Aviation System  \\\n",
       "0                                             118831     \n",
       "1                                              24400     \n",
       "2                                              17556     \n",
       "3                                              23804     \n",
       "4                                              20999     \n",
       "\n",
       "   Statistics.Minutes Delayed.Security  Statistics.Minutes Delayed.Total  \\\n",
       "0                                  518                            268764   \n",
       "1                                   99                             77167   \n",
       "2                                  278                             64480   \n",
       "3                                  127                             65865   \n",
       "4                                  120                             52747   \n",
       "\n",
       "   Statistics.Minutes Delayed.Weather  \n",
       "0                               19474  \n",
       "1                                4160  \n",
       "2                                6201  \n",
       "3                                3792  \n",
       "4                                4141  \n",
       "\n",
       "[5 rows x 24 columns]"
      ]
     },
     "execution_count": 147,
     "metadata": {},
     "output_type": "execute_result"
    }
   ],
   "source": [
    "# load the data\n",
    "df = pd.read_csv('airlines.csv')\n",
    "df.head()"
   ]
  },
  {
   "cell_type": "code",
   "execution_count": 148,
   "metadata": {},
   "outputs": [
    {
     "data": {
      "text/plain": [
       "Airport.Code                                           object\n",
       "Airport.Name                                           object\n",
       "Time.Label                                             object\n",
       "Time.Month                                              int64\n",
       "Time.Month Name                                        object\n",
       "Time.Year                                               int64\n",
       "Statistics.# of Delays.Carrier                          int64\n",
       "Statistics.# of Delays.Late Aircraft                    int64\n",
       "Statistics.# of Delays.National Aviation System         int64\n",
       "Statistics.# of Delays.Security                         int64\n",
       "Statistics.# of Delays.Weather                          int64\n",
       "Statistics.Carriers.Names                              object\n",
       "Statistics.Carriers.Total                               int64\n",
       "Statistics.Flights.Cancelled                            int64\n",
       "Statistics.Flights.Delayed                              int64\n",
       "Statistics.Flights.Diverted                             int64\n",
       "Statistics.Flights.On Time                              int64\n",
       "Statistics.Flights.Total                                int64\n",
       "Statistics.Minutes Delayed.Carrier                      int64\n",
       "Statistics.Minutes Delayed.Late Aircraft                int64\n",
       "Statistics.Minutes Delayed.National Aviation System     int64\n",
       "Statistics.Minutes Delayed.Security                     int64\n",
       "Statistics.Minutes Delayed.Total                        int64\n",
       "Statistics.Minutes Delayed.Weather                      int64\n",
       "dtype: object"
      ]
     },
     "execution_count": 148,
     "metadata": {},
     "output_type": "execute_result"
    }
   ],
   "source": [
    "# list the data types\n",
    "df.dtypes"
   ]
  },
  {
   "cell_type": "code",
   "execution_count": 149,
   "metadata": {},
   "outputs": [],
   "source": [
    "# Rename columns\n",
    "df = df.rename(columns={'Statistics.# of Delays.Carrier': 'Delays.Carrier', 'Statistics.# of Delays.Late Aircraft': 'Delays.Late', 'Statistics.# of Delays.National Aviation System': 'Delays.NAS', 'Statistics.# of Delays.Security': 'Delays:Security', 'Statistics.# of Delays.Weather': 'Delays.Weather', 'Statistics.Carriers.Names': 'Carriers.Names', 'Statistics.Carriers.Total': 'Carriers.Total', 'Statistics.Flights.Cancelled': 'Flights.Cancelled', 'Statistics.Flights.Delayed': 'Flights.Delayed', 'Statistics.Flights.Diverted': 'Flights.Diverted', 'Statistics.Flights.On Time': 'Flights.On_Time', 'Statistics.Flights.Total': 'Flights.Total', 'Statistics.Minutes Delayed.Carrier': 'Min_Delay.Carrier', 'Statistics.Minutes Delayed.Late Aircraft': 'Min_Delay.Late', 'Statistics.Minutes Delayed.National Aviation System': 'Min_Delay.NAS', 'Statistics.Minutes Delayed.Security': 'Min_Delay.Security', 'Statistics.Minutes Delayed.Total': 'Min_Delay.Total', 'Statistics.Minutes Delayed.Weather': 'Min_Delay.Weather'})"
   ]
  },
  {
   "cell_type": "code",
   "execution_count": 150,
   "metadata": {},
   "outputs": [
    {
     "name": "stdout",
     "output_type": "stream",
     "text": [
      "<class 'pandas.core.frame.DataFrame'>\n",
      "RangeIndex: 4408 entries, 0 to 4407\n",
      "Data columns (total 22 columns):\n",
      " #   Column              Non-Null Count  Dtype \n",
      "---  ------              --------------  ----- \n",
      " 0   Airport.Code        4408 non-null   object\n",
      " 1   Airport.Name        4408 non-null   object\n",
      " 2   Time.Month          4408 non-null   int64 \n",
      " 3   Time.Year           4408 non-null   int64 \n",
      " 4   Delays.Carrier      4408 non-null   int64 \n",
      " 5   Delays.Late         4408 non-null   int64 \n",
      " 6   Delays.NAS          4408 non-null   int64 \n",
      " 7   Delays:Security     4408 non-null   int64 \n",
      " 8   Delays.Weather      4408 non-null   int64 \n",
      " 9   Carriers.Names      4408 non-null   object\n",
      " 10  Carriers.Total      4408 non-null   int64 \n",
      " 11  Flights.Cancelled   4408 non-null   int64 \n",
      " 12  Flights.Delayed     4408 non-null   int64 \n",
      " 13  Flights.Diverted    4408 non-null   int64 \n",
      " 14  Flights.On_Time     4408 non-null   int64 \n",
      " 15  Flights.Total       4408 non-null   int64 \n",
      " 16  Min_Delay.Carrier   4408 non-null   int64 \n",
      " 17  Min_Delay.Late      4408 non-null   int64 \n",
      " 18  Min_Delay.NAS       4408 non-null   int64 \n",
      " 19  Min_Delay.Security  4408 non-null   int64 \n",
      " 20  Min_Delay.Total     4408 non-null   int64 \n",
      " 21  Min_Delay.Weather   4408 non-null   int64 \n",
      "dtypes: int64(19), object(3)\n",
      "memory usage: 757.8+ KB\n"
     ]
    }
   ],
   "source": [
    "# Drop unnessary columns\n",
    "df.drop(['Time.Label', 'Time.Month Name'], axis=1, inplace=True) \n",
    "\n",
    "# Double check the data frame to see if features were dropped\n",
    "df.info()"
   ]
  },
  {
   "cell_type": "code",
   "execution_count": 151,
   "metadata": {},
   "outputs": [],
   "source": [
    "unique_codes = df['Airport.Code'].unique()\n",
    "unique_airports = df['Airport.Name'].unique()\n",
    "#unique_carriers = df['Carriers.Names'].unique()\n",
    "\n",
    "all_carriers = df['Carriers.Names'].str.split(',').explode().str.strip().unique()\n",
    "\n",
    "unique_carriers = list(all_carriers)"
   ]
  },
  {
   "cell_type": "code",
   "execution_count": 152,
   "metadata": {},
   "outputs": [
    {
     "data": {
      "text/plain": [
       "array(['ATL', 'BOS', 'BWI', 'CLT', 'DCA', 'DEN', 'DFW', 'DTW', 'EWR',\n",
       "       'FLL', 'IAD', 'IAH', 'JFK', 'LAS', 'LAX', 'LGA', 'MCO', 'MDW',\n",
       "       'MIA', 'MSP', 'ORD', 'PDX', 'PHL', 'PHX', 'SAN', 'SEA', 'SFO',\n",
       "       'SLC', 'TPA'], dtype=object)"
      ]
     },
     "execution_count": 152,
     "metadata": {},
     "output_type": "execute_result"
    }
   ],
   "source": [
    "unique_codes"
   ]
  },
  {
   "cell_type": "code",
   "execution_count": 153,
   "metadata": {},
   "outputs": [
    {
     "data": {
      "text/plain": [
       "array(['Atlanta, GA: Hartsfield-Jackson Atlanta International',\n",
       "       'Boston, MA: Logan International',\n",
       "       'Baltimore, MD: Baltimore/Washington International Thurgood Marshall',\n",
       "       'Charlotte, NC: Charlotte Douglas International',\n",
       "       'Washington, DC: Ronald Reagan Washington National',\n",
       "       'Denver, CO: Denver International',\n",
       "       'Dallas/Fort Worth, TX: Dallas/Fort Worth International',\n",
       "       'Detroit, MI: Detroit Metro Wayne County',\n",
       "       'Newark, NJ: Newark Liberty International',\n",
       "       'Fort Lauderdale, FL: Fort Lauderdale-Hollywood International',\n",
       "       'Washington, DC: Washington Dulles International',\n",
       "       'Houston, TX: George Bush Intercontinental/Houston',\n",
       "       'New York, NY: John F. Kennedy International',\n",
       "       'Las Vegas, NV: McCarran International',\n",
       "       'Los Angeles, CA: Los Angeles International',\n",
       "       'New York, NY: LaGuardia', 'Orlando, FL: Orlando International',\n",
       "       'Chicago, IL: Chicago Midway International',\n",
       "       'Miami, FL: Miami International',\n",
       "       'Minneapolis, MN: Minneapolis-St Paul International',\n",
       "       \"Chicago, IL: Chicago O'Hare International\",\n",
       "       'Portland, OR: Portland International',\n",
       "       'Philadelphia, PA: Philadelphia International',\n",
       "       'Phoenix, AZ: Phoenix Sky Harbor International',\n",
       "       'San Diego, CA: San Diego International',\n",
       "       'Seattle, WA: Seattle/Tacoma International',\n",
       "       'San Francisco, CA: San Francisco International',\n",
       "       'Salt Lake City, UT: Salt Lake City International',\n",
       "       'Tampa, FL: Tampa International'], dtype=object)"
      ]
     },
     "execution_count": 153,
     "metadata": {},
     "output_type": "execute_result"
    }
   ],
   "source": [
    "unique_airports"
   ]
  },
  {
   "cell_type": "code",
   "execution_count": 154,
   "metadata": {},
   "outputs": [
    {
     "data": {
      "text/plain": [
       "['American Airlines Inc.',\n",
       " 'JetBlue Airways',\n",
       " 'Continental Air Lines Inc.',\n",
       " 'Delta Air Lines Inc.',\n",
       " 'Atlantic Southeast Airlines',\n",
       " 'AirTran Airways Corporation',\n",
       " 'America West Airlines Inc.',\n",
       " 'Northwest Airlines Inc.',\n",
       " 'ExpressJet Airlines Inc.',\n",
       " 'United Air Lines Inc.',\n",
       " 'US Airways Inc.',\n",
       " 'Alaska Airlines Inc.',\n",
       " 'Atlantic Coast Airlines',\n",
       " 'American Eagle Airlines Inc.',\n",
       " 'ATA Airlines d/b/a ATA',\n",
       " 'Southwest Airlines Co.',\n",
       " 'SkyWest Airlines Inc.',\n",
       " 'Hawaiian Airlines Inc.',\n",
       " 'Comair Inc.',\n",
       " 'Independence Air',\n",
       " 'Frontier Airlines Inc.',\n",
       " 'Mesa Airlines Inc.',\n",
       " 'Aloha Airlines Inc.',\n",
       " 'Pinnacle Airlines Inc.',\n",
       " 'Virgin America',\n",
       " 'Endeavor Air Inc.',\n",
       " 'Envoy Air',\n",
       " 'Spirit Air Lines']"
      ]
     },
     "execution_count": 154,
     "metadata": {},
     "output_type": "execute_result"
    }
   ],
   "source": [
    "unique_carriers"
   ]
  },
  {
   "cell_type": "code",
   "execution_count": 155,
   "metadata": {},
   "outputs": [],
   "source": [
    "# Drop the carrier names column\n",
    "df = df.drop('Carriers.Names', axis=1)"
   ]
  },
  {
   "cell_type": "markdown",
   "metadata": {},
   "source": [
    "### Handling Date Variables"
   ]
  },
  {
   "cell_type": "code",
   "execution_count": 160,
   "metadata": {},
   "outputs": [
    {
     "data": {
      "text/plain": [
       "array([ 6,  7,  8,  9, 10, 11, 12,  1,  2,  3,  4,  5], dtype=int64)"
      ]
     },
     "execution_count": 160,
     "metadata": {},
     "output_type": "execute_result"
    }
   ],
   "source": [
    "# Check unique values for month and year features\n",
    "df['Time.Month'].unique()"
   ]
  },
  {
   "cell_type": "code",
   "execution_count": 161,
   "metadata": {},
   "outputs": [
    {
     "data": {
      "text/plain": [
       "array([2003, 2004, 2005, 2006, 2007, 2008, 2009, 2010, 2011, 2012, 2013,\n",
       "       2014, 2015, 2016], dtype=int64)"
      ]
     },
     "execution_count": 161,
     "metadata": {},
     "output_type": "execute_result"
    }
   ],
   "source": [
    "df['Time.Year'].unique()"
   ]
  },
  {
   "cell_type": "markdown",
   "metadata": {},
   "source": [
    "### Handling Missing and Duplicate Data"
   ]
  },
  {
   "cell_type": "code",
   "execution_count": 156,
   "metadata": {},
   "outputs": [
    {
     "data": {
      "text/plain": [
       "Airport.Code          0\n",
       "Airport.Name          0\n",
       "Time.Month            0\n",
       "Time.Year             0\n",
       "Delays.Carrier        0\n",
       "Delays.Late           0\n",
       "Delays.NAS            0\n",
       "Delays:Security       0\n",
       "Delays.Weather        0\n",
       "Carriers.Total        0\n",
       "Flights.Cancelled     0\n",
       "Flights.Delayed       0\n",
       "Flights.Diverted      0\n",
       "Flights.On_Time       0\n",
       "Flights.Total         0\n",
       "Min_Delay.Carrier     0\n",
       "Min_Delay.Late        0\n",
       "Min_Delay.NAS         0\n",
       "Min_Delay.Security    0\n",
       "Min_Delay.Total       0\n",
       "Min_Delay.Weather     0\n",
       "dtype: int64"
      ]
     },
     "execution_count": 156,
     "metadata": {},
     "output_type": "execute_result"
    }
   ],
   "source": [
    "# Check if there are missing values\n",
    "df.isnull().sum()"
   ]
  },
  {
   "cell_type": "code",
   "execution_count": 157,
   "metadata": {},
   "outputs": [],
   "source": [
    "# Drop duplicate rows\n",
    "df.drop_duplicates(inplace=True)"
   ]
  },
  {
   "cell_type": "code",
   "execution_count": 158,
   "metadata": {},
   "outputs": [
    {
     "name": "stdout",
     "output_type": "stream",
     "text": [
      "<class 'pandas.core.frame.DataFrame'>\n",
      "RangeIndex: 4408 entries, 0 to 4407\n",
      "Data columns (total 21 columns):\n",
      " #   Column              Non-Null Count  Dtype \n",
      "---  ------              --------------  ----- \n",
      " 0   Airport.Code        4408 non-null   object\n",
      " 1   Airport.Name        4408 non-null   object\n",
      " 2   Time.Month          4408 non-null   int64 \n",
      " 3   Time.Year           4408 non-null   int64 \n",
      " 4   Delays.Carrier      4408 non-null   int64 \n",
      " 5   Delays.Late         4408 non-null   int64 \n",
      " 6   Delays.NAS          4408 non-null   int64 \n",
      " 7   Delays:Security     4408 non-null   int64 \n",
      " 8   Delays.Weather      4408 non-null   int64 \n",
      " 9   Carriers.Total      4408 non-null   int64 \n",
      " 10  Flights.Cancelled   4408 non-null   int64 \n",
      " 11  Flights.Delayed     4408 non-null   int64 \n",
      " 12  Flights.Diverted    4408 non-null   int64 \n",
      " 13  Flights.On_Time     4408 non-null   int64 \n",
      " 14  Flights.Total       4408 non-null   int64 \n",
      " 15  Min_Delay.Carrier   4408 non-null   int64 \n",
      " 16  Min_Delay.Late      4408 non-null   int64 \n",
      " 17  Min_Delay.NAS       4408 non-null   int64 \n",
      " 18  Min_Delay.Security  4408 non-null   int64 \n",
      " 19  Min_Delay.Total     4408 non-null   int64 \n",
      " 20  Min_Delay.Weather   4408 non-null   int64 \n",
      "dtypes: int64(19), object(2)\n",
      "memory usage: 723.3+ KB\n"
     ]
    }
   ],
   "source": [
    "df.info()"
   ]
  },
  {
   "cell_type": "markdown",
   "metadata": {},
   "source": [
    "### Encoding the Data"
   ]
  },
  {
   "cell_type": "code",
   "execution_count": 159,
   "metadata": {},
   "outputs": [
    {
     "data": {
      "text/html": [
       "<div>\n",
       "<style scoped>\n",
       "    .dataframe tbody tr th:only-of-type {\n",
       "        vertical-align: middle;\n",
       "    }\n",
       "\n",
       "    .dataframe tbody tr th {\n",
       "        vertical-align: top;\n",
       "    }\n",
       "\n",
       "    .dataframe thead th {\n",
       "        text-align: right;\n",
       "    }\n",
       "</style>\n",
       "<table border=\"1\" class=\"dataframe\">\n",
       "  <thead>\n",
       "    <tr style=\"text-align: right;\">\n",
       "      <th></th>\n",
       "      <th>Airport.Code</th>\n",
       "      <th>Airport.Name</th>\n",
       "      <th>Time.Month</th>\n",
       "      <th>Time.Year</th>\n",
       "      <th>Delays.Carrier</th>\n",
       "      <th>Delays.Late</th>\n",
       "      <th>Delays.NAS</th>\n",
       "      <th>Delays:Security</th>\n",
       "      <th>Delays.Weather</th>\n",
       "      <th>Carriers.Total</th>\n",
       "      <th>...</th>\n",
       "      <th>Flights.Delayed</th>\n",
       "      <th>Flights.Diverted</th>\n",
       "      <th>Flights.On_Time</th>\n",
       "      <th>Flights.Total</th>\n",
       "      <th>Min_Delay.Carrier</th>\n",
       "      <th>Min_Delay.Late</th>\n",
       "      <th>Min_Delay.NAS</th>\n",
       "      <th>Min_Delay.Security</th>\n",
       "      <th>Min_Delay.Total</th>\n",
       "      <th>Min_Delay.Weather</th>\n",
       "    </tr>\n",
       "  </thead>\n",
       "  <tbody>\n",
       "    <tr>\n",
       "      <th>0</th>\n",
       "      <td>0</td>\n",
       "      <td>Atlanta, GA: Hartsfield-Jackson Atlanta Intern...</td>\n",
       "      <td>6</td>\n",
       "      <td>2003</td>\n",
       "      <td>1009</td>\n",
       "      <td>1275</td>\n",
       "      <td>3217</td>\n",
       "      <td>17</td>\n",
       "      <td>328</td>\n",
       "      <td>11</td>\n",
       "      <td>...</td>\n",
       "      <td>5843</td>\n",
       "      <td>27</td>\n",
       "      <td>23974</td>\n",
       "      <td>30060</td>\n",
       "      <td>61606</td>\n",
       "      <td>68335</td>\n",
       "      <td>118831</td>\n",
       "      <td>518</td>\n",
       "      <td>268764</td>\n",
       "      <td>19474</td>\n",
       "    </tr>\n",
       "    <tr>\n",
       "      <th>1</th>\n",
       "      <td>1</td>\n",
       "      <td>Boston, MA: Logan International</td>\n",
       "      <td>6</td>\n",
       "      <td>2003</td>\n",
       "      <td>374</td>\n",
       "      <td>495</td>\n",
       "      <td>685</td>\n",
       "      <td>3</td>\n",
       "      <td>66</td>\n",
       "      <td>14</td>\n",
       "      <td>...</td>\n",
       "      <td>1623</td>\n",
       "      <td>3</td>\n",
       "      <td>7875</td>\n",
       "      <td>9639</td>\n",
       "      <td>20319</td>\n",
       "      <td>28189</td>\n",
       "      <td>24400</td>\n",
       "      <td>99</td>\n",
       "      <td>77167</td>\n",
       "      <td>4160</td>\n",
       "    </tr>\n",
       "    <tr>\n",
       "      <th>2</th>\n",
       "      <td>2</td>\n",
       "      <td>Baltimore, MD: Baltimore/Washington Internatio...</td>\n",
       "      <td>6</td>\n",
       "      <td>2003</td>\n",
       "      <td>296</td>\n",
       "      <td>477</td>\n",
       "      <td>389</td>\n",
       "      <td>8</td>\n",
       "      <td>78</td>\n",
       "      <td>11</td>\n",
       "      <td>...</td>\n",
       "      <td>1245</td>\n",
       "      <td>15</td>\n",
       "      <td>6998</td>\n",
       "      <td>8287</td>\n",
       "      <td>13635</td>\n",
       "      <td>26810</td>\n",
       "      <td>17556</td>\n",
       "      <td>278</td>\n",
       "      <td>64480</td>\n",
       "      <td>6201</td>\n",
       "    </tr>\n",
       "    <tr>\n",
       "      <th>3</th>\n",
       "      <td>3</td>\n",
       "      <td>Charlotte, NC: Charlotte Douglas International</td>\n",
       "      <td>6</td>\n",
       "      <td>2003</td>\n",
       "      <td>300</td>\n",
       "      <td>472</td>\n",
       "      <td>735</td>\n",
       "      <td>2</td>\n",
       "      <td>54</td>\n",
       "      <td>11</td>\n",
       "      <td>...</td>\n",
       "      <td>1562</td>\n",
       "      <td>14</td>\n",
       "      <td>7021</td>\n",
       "      <td>8670</td>\n",
       "      <td>14763</td>\n",
       "      <td>23379</td>\n",
       "      <td>23804</td>\n",
       "      <td>127</td>\n",
       "      <td>65865</td>\n",
       "      <td>3792</td>\n",
       "    </tr>\n",
       "    <tr>\n",
       "      <th>4</th>\n",
       "      <td>4</td>\n",
       "      <td>Washington, DC: Ronald Reagan Washington National</td>\n",
       "      <td>6</td>\n",
       "      <td>2003</td>\n",
       "      <td>283</td>\n",
       "      <td>268</td>\n",
       "      <td>487</td>\n",
       "      <td>4</td>\n",
       "      <td>58</td>\n",
       "      <td>13</td>\n",
       "      <td>...</td>\n",
       "      <td>1100</td>\n",
       "      <td>18</td>\n",
       "      <td>5321</td>\n",
       "      <td>6513</td>\n",
       "      <td>13775</td>\n",
       "      <td>13712</td>\n",
       "      <td>20999</td>\n",
       "      <td>120</td>\n",
       "      <td>52747</td>\n",
       "      <td>4141</td>\n",
       "    </tr>\n",
       "  </tbody>\n",
       "</table>\n",
       "<p>5 rows × 21 columns</p>\n",
       "</div>"
      ],
      "text/plain": [
       "   Airport.Code                                       Airport.Name  \\\n",
       "0             0  Atlanta, GA: Hartsfield-Jackson Atlanta Intern...   \n",
       "1             1                    Boston, MA: Logan International   \n",
       "2             2  Baltimore, MD: Baltimore/Washington Internatio...   \n",
       "3             3     Charlotte, NC: Charlotte Douglas International   \n",
       "4             4  Washington, DC: Ronald Reagan Washington National   \n",
       "\n",
       "   Time.Month  Time.Year  Delays.Carrier  Delays.Late  Delays.NAS  \\\n",
       "0           6       2003            1009         1275        3217   \n",
       "1           6       2003             374          495         685   \n",
       "2           6       2003             296          477         389   \n",
       "3           6       2003             300          472         735   \n",
       "4           6       2003             283          268         487   \n",
       "\n",
       "   Delays:Security  Delays.Weather  Carriers.Total  ...  Flights.Delayed  \\\n",
       "0               17             328              11  ...             5843   \n",
       "1                3              66              14  ...             1623   \n",
       "2                8              78              11  ...             1245   \n",
       "3                2              54              11  ...             1562   \n",
       "4                4              58              13  ...             1100   \n",
       "\n",
       "   Flights.Diverted  Flights.On_Time  Flights.Total  Min_Delay.Carrier  \\\n",
       "0                27            23974          30060              61606   \n",
       "1                 3             7875           9639              20319   \n",
       "2                15             6998           8287              13635   \n",
       "3                14             7021           8670              14763   \n",
       "4                18             5321           6513              13775   \n",
       "\n",
       "   Min_Delay.Late  Min_Delay.NAS  Min_Delay.Security  Min_Delay.Total  \\\n",
       "0           68335         118831                 518           268764   \n",
       "1           28189          24400                  99            77167   \n",
       "2           26810          17556                 278            64480   \n",
       "3           23379          23804                 127            65865   \n",
       "4           13712          20999                 120            52747   \n",
       "\n",
       "   Min_Delay.Weather  \n",
       "0              19474  \n",
       "1               4160  \n",
       "2               6201  \n",
       "3               3792  \n",
       "4               4141  \n",
       "\n",
       "[5 rows x 21 columns]"
      ]
     },
     "execution_count": 159,
     "metadata": {},
     "output_type": "execute_result"
    }
   ],
   "source": [
    "label_encoder = LabelEncoder()\n",
    "\n",
    "df['Airport.Code'] = label_encoder.fit_transform(df['Airport.Code'])\n",
    "\n",
    "df.head()"
   ]
  },
  {
   "cell_type": "markdown",
   "metadata": {},
   "source": [
    "## Univariate Analysis"
   ]
  },
  {
   "cell_type": "markdown",
   "metadata": {},
   "source": [
    "---------------------------------------"
   ]
  },
  {
   "cell_type": "markdown",
   "metadata": {},
   "source": [
    "## Bivariate / Multivariate Analysis"
   ]
  },
  {
   "cell_type": "markdown",
   "metadata": {},
   "source": [
    "---------------------------"
   ]
  },
  {
   "cell_type": "markdown",
   "metadata": {},
   "source": [
    "## Visualizations"
   ]
  },
  {
   "cell_type": "markdown",
   "metadata": {},
   "source": [
    "----------------------------"
   ]
  },
  {
   "cell_type": "markdown",
   "metadata": {},
   "source": [
    "## Hypothesis Generation"
   ]
  }
 ],
 "metadata": {
  "kernelspec": {
   "display_name": "base",
   "language": "python",
   "name": "python3"
  },
  "language_info": {
   "codemirror_mode": {
    "name": "ipython",
    "version": 3
   },
   "file_extension": ".py",
   "mimetype": "text/x-python",
   "name": "python",
   "nbconvert_exporter": "python",
   "pygments_lexer": "ipython3",
   "version": "3.11.8"
  }
 },
 "nbformat": 4,
 "nbformat_minor": 2
}
